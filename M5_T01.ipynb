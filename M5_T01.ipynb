{
  "cells": [
    {
      "cell_type": "markdown",
      "id": "5818753a",
      "metadata": {
        "id": "5818753a"
      },
      "source": [
        "# Tasca M5 T01"
      ]
    },
    {
      "cell_type": "code",
      "source": [
        "# importing libraries\n",
        "import numpy as np\n",
        "import pandas as pd\n",
        "import matplotlib.pyplot as plt\n",
        "import seaborn as sns\n",
        "#import random\n",
        "#import math\n",
        "import scipy.stats as stats"
      ],
      "metadata": {
        "id": "3si8SYT-hzuy"
      },
      "id": "3si8SYT-hzuy",
      "execution_count": 2,
      "outputs": []
    },
    {
      "cell_type": "markdown",
      "id": "f6dbf2c8",
      "metadata": {
        "id": "f6dbf2c8"
      },
      "source": [
        "## Exercici 1\n",
        "### Descarrega el dataset adjunt de dades oficials de la UEFA i selecciona un atribut del conjunt de dades. Calcula el p-valor i digues si rebutja la hipòtesi nul·la agafant un alfa de 5%. \n"
      ]
    },
    {
      "cell_type": "code",
      "execution_count": 3,
      "id": "671949c2",
      "metadata": {
        "id": "671949c2",
        "colab": {
          "base_uri": "https://localhost:8080/",
          "height": 235
        },
        "outputId": "7f3fdf90-cdf9-4fb6-c55b-d229f0ae35a0"
      },
      "outputs": [
        {
          "output_type": "execute_result",
          "data": {
            "text/plain": [
              "   Rk            Squad Country  LgRk  MP   W  D  L  GF  GA  ...  Pts  Pts/G  \\\n",
              "0   1  Manchester City     ENG     1  37  28  6  3  96  24  ...   90   2.43   \n",
              "1   2        Liverpool     ENG     2  36  26  8  2  89  24  ...   86   2.39   \n",
              "2   3      Real Madrid     ESP     1  37  26  7  4  80  31  ...   85   2.30   \n",
              "3   4    Bayern Munich     GER     1  34  24  5  5  97  37  ...   77   2.26   \n",
              "4   5        Paris S-G     FRA     1  37  25  8  4  85  36  ...   83   2.24   \n",
              "\n",
              "     xG   xGA   xGD  xGD/90     Last 5 Attendance          Top Team Scorer  \\\n",
              "0  86.1  26.8  59.3    1.60  W W W W D      52739     Kevin De Bruyne - 15   \n",
              "1  84.6  33.1  51.4    1.43  W W W D W      53367       Mohamed Salah - 22   \n",
              "2  73.0  45.8  27.2    0.73  W W L W D      40624       Karim Benzema - 27   \n",
              "3  88.1  37.1  51.0    1.50  W W L D D      33176  Robert Lewandowski - 35   \n",
              "4  71.6  38.1  33.4    0.90  W D D D W      41188       Kylian Mbappé - 25   \n",
              "\n",
              "         Goalkeeper  \n",
              "0           Ederson  \n",
              "1           Alisson  \n",
              "2  Thibaut Courtois  \n",
              "3      Manuel Neuer  \n",
              "4      Keylor Navas  \n",
              "\n",
              "[5 rows x 21 columns]"
            ],
            "text/html": [
              "\n",
              "  <div id=\"df-079da725-8f93-4fa1-a633-1c1500be7a6f\">\n",
              "    <div class=\"colab-df-container\">\n",
              "      <div>\n",
              "<style scoped>\n",
              "    .dataframe tbody tr th:only-of-type {\n",
              "        vertical-align: middle;\n",
              "    }\n",
              "\n",
              "    .dataframe tbody tr th {\n",
              "        vertical-align: top;\n",
              "    }\n",
              "\n",
              "    .dataframe thead th {\n",
              "        text-align: right;\n",
              "    }\n",
              "</style>\n",
              "<table border=\"1\" class=\"dataframe\">\n",
              "  <thead>\n",
              "    <tr style=\"text-align: right;\">\n",
              "      <th></th>\n",
              "      <th>Rk</th>\n",
              "      <th>Squad</th>\n",
              "      <th>Country</th>\n",
              "      <th>LgRk</th>\n",
              "      <th>MP</th>\n",
              "      <th>W</th>\n",
              "      <th>D</th>\n",
              "      <th>L</th>\n",
              "      <th>GF</th>\n",
              "      <th>GA</th>\n",
              "      <th>...</th>\n",
              "      <th>Pts</th>\n",
              "      <th>Pts/G</th>\n",
              "      <th>xG</th>\n",
              "      <th>xGA</th>\n",
              "      <th>xGD</th>\n",
              "      <th>xGD/90</th>\n",
              "      <th>Last 5</th>\n",
              "      <th>Attendance</th>\n",
              "      <th>Top Team Scorer</th>\n",
              "      <th>Goalkeeper</th>\n",
              "    </tr>\n",
              "  </thead>\n",
              "  <tbody>\n",
              "    <tr>\n",
              "      <th>0</th>\n",
              "      <td>1</td>\n",
              "      <td>Manchester City</td>\n",
              "      <td>ENG</td>\n",
              "      <td>1</td>\n",
              "      <td>37</td>\n",
              "      <td>28</td>\n",
              "      <td>6</td>\n",
              "      <td>3</td>\n",
              "      <td>96</td>\n",
              "      <td>24</td>\n",
              "      <td>...</td>\n",
              "      <td>90</td>\n",
              "      <td>2.43</td>\n",
              "      <td>86.1</td>\n",
              "      <td>26.8</td>\n",
              "      <td>59.3</td>\n",
              "      <td>1.60</td>\n",
              "      <td>W W W W D</td>\n",
              "      <td>52739</td>\n",
              "      <td>Kevin De Bruyne - 15</td>\n",
              "      <td>Ederson</td>\n",
              "    </tr>\n",
              "    <tr>\n",
              "      <th>1</th>\n",
              "      <td>2</td>\n",
              "      <td>Liverpool</td>\n",
              "      <td>ENG</td>\n",
              "      <td>2</td>\n",
              "      <td>36</td>\n",
              "      <td>26</td>\n",
              "      <td>8</td>\n",
              "      <td>2</td>\n",
              "      <td>89</td>\n",
              "      <td>24</td>\n",
              "      <td>...</td>\n",
              "      <td>86</td>\n",
              "      <td>2.39</td>\n",
              "      <td>84.6</td>\n",
              "      <td>33.1</td>\n",
              "      <td>51.4</td>\n",
              "      <td>1.43</td>\n",
              "      <td>W W W D W</td>\n",
              "      <td>53367</td>\n",
              "      <td>Mohamed Salah - 22</td>\n",
              "      <td>Alisson</td>\n",
              "    </tr>\n",
              "    <tr>\n",
              "      <th>2</th>\n",
              "      <td>3</td>\n",
              "      <td>Real Madrid</td>\n",
              "      <td>ESP</td>\n",
              "      <td>1</td>\n",
              "      <td>37</td>\n",
              "      <td>26</td>\n",
              "      <td>7</td>\n",
              "      <td>4</td>\n",
              "      <td>80</td>\n",
              "      <td>31</td>\n",
              "      <td>...</td>\n",
              "      <td>85</td>\n",
              "      <td>2.30</td>\n",
              "      <td>73.0</td>\n",
              "      <td>45.8</td>\n",
              "      <td>27.2</td>\n",
              "      <td>0.73</td>\n",
              "      <td>W W L W D</td>\n",
              "      <td>40624</td>\n",
              "      <td>Karim Benzema - 27</td>\n",
              "      <td>Thibaut Courtois</td>\n",
              "    </tr>\n",
              "    <tr>\n",
              "      <th>3</th>\n",
              "      <td>4</td>\n",
              "      <td>Bayern Munich</td>\n",
              "      <td>GER</td>\n",
              "      <td>1</td>\n",
              "      <td>34</td>\n",
              "      <td>24</td>\n",
              "      <td>5</td>\n",
              "      <td>5</td>\n",
              "      <td>97</td>\n",
              "      <td>37</td>\n",
              "      <td>...</td>\n",
              "      <td>77</td>\n",
              "      <td>2.26</td>\n",
              "      <td>88.1</td>\n",
              "      <td>37.1</td>\n",
              "      <td>51.0</td>\n",
              "      <td>1.50</td>\n",
              "      <td>W W L D D</td>\n",
              "      <td>33176</td>\n",
              "      <td>Robert Lewandowski - 35</td>\n",
              "      <td>Manuel Neuer</td>\n",
              "    </tr>\n",
              "    <tr>\n",
              "      <th>4</th>\n",
              "      <td>5</td>\n",
              "      <td>Paris S-G</td>\n",
              "      <td>FRA</td>\n",
              "      <td>1</td>\n",
              "      <td>37</td>\n",
              "      <td>25</td>\n",
              "      <td>8</td>\n",
              "      <td>4</td>\n",
              "      <td>85</td>\n",
              "      <td>36</td>\n",
              "      <td>...</td>\n",
              "      <td>83</td>\n",
              "      <td>2.24</td>\n",
              "      <td>71.6</td>\n",
              "      <td>38.1</td>\n",
              "      <td>33.4</td>\n",
              "      <td>0.90</td>\n",
              "      <td>W D D D W</td>\n",
              "      <td>41188</td>\n",
              "      <td>Kylian Mbappé - 25</td>\n",
              "      <td>Keylor Navas</td>\n",
              "    </tr>\n",
              "  </tbody>\n",
              "</table>\n",
              "<p>5 rows × 21 columns</p>\n",
              "</div>\n",
              "      <button class=\"colab-df-convert\" onclick=\"convertToInteractive('df-079da725-8f93-4fa1-a633-1c1500be7a6f')\"\n",
              "              title=\"Convert this dataframe to an interactive table.\"\n",
              "              style=\"display:none;\">\n",
              "        \n",
              "  <svg xmlns=\"http://www.w3.org/2000/svg\" height=\"24px\"viewBox=\"0 0 24 24\"\n",
              "       width=\"24px\">\n",
              "    <path d=\"M0 0h24v24H0V0z\" fill=\"none\"/>\n",
              "    <path d=\"M18.56 5.44l.94 2.06.94-2.06 2.06-.94-2.06-.94-.94-2.06-.94 2.06-2.06.94zm-11 1L8.5 8.5l.94-2.06 2.06-.94-2.06-.94L8.5 2.5l-.94 2.06-2.06.94zm10 10l.94 2.06.94-2.06 2.06-.94-2.06-.94-.94-2.06-.94 2.06-2.06.94z\"/><path d=\"M17.41 7.96l-1.37-1.37c-.4-.4-.92-.59-1.43-.59-.52 0-1.04.2-1.43.59L10.3 9.45l-7.72 7.72c-.78.78-.78 2.05 0 2.83L4 21.41c.39.39.9.59 1.41.59.51 0 1.02-.2 1.41-.59l7.78-7.78 2.81-2.81c.8-.78.8-2.07 0-2.86zM5.41 20L4 18.59l7.72-7.72 1.47 1.35L5.41 20z\"/>\n",
              "  </svg>\n",
              "      </button>\n",
              "      \n",
              "  <style>\n",
              "    .colab-df-container {\n",
              "      display:flex;\n",
              "      flex-wrap:wrap;\n",
              "      gap: 12px;\n",
              "    }\n",
              "\n",
              "    .colab-df-convert {\n",
              "      background-color: #E8F0FE;\n",
              "      border: none;\n",
              "      border-radius: 50%;\n",
              "      cursor: pointer;\n",
              "      display: none;\n",
              "      fill: #1967D2;\n",
              "      height: 32px;\n",
              "      padding: 0 0 0 0;\n",
              "      width: 32px;\n",
              "    }\n",
              "\n",
              "    .colab-df-convert:hover {\n",
              "      background-color: #E2EBFA;\n",
              "      box-shadow: 0px 1px 2px rgba(60, 64, 67, 0.3), 0px 1px 3px 1px rgba(60, 64, 67, 0.15);\n",
              "      fill: #174EA6;\n",
              "    }\n",
              "\n",
              "    [theme=dark] .colab-df-convert {\n",
              "      background-color: #3B4455;\n",
              "      fill: #D2E3FC;\n",
              "    }\n",
              "\n",
              "    [theme=dark] .colab-df-convert:hover {\n",
              "      background-color: #434B5C;\n",
              "      box-shadow: 0px 1px 3px 1px rgba(0, 0, 0, 0.15);\n",
              "      filter: drop-shadow(0px 1px 2px rgba(0, 0, 0, 0.3));\n",
              "      fill: #FFFFFF;\n",
              "    }\n",
              "  </style>\n",
              "\n",
              "      <script>\n",
              "        const buttonEl =\n",
              "          document.querySelector('#df-079da725-8f93-4fa1-a633-1c1500be7a6f button.colab-df-convert');\n",
              "        buttonEl.style.display =\n",
              "          google.colab.kernel.accessAllowed ? 'block' : 'none';\n",
              "\n",
              "        async function convertToInteractive(key) {\n",
              "          const element = document.querySelector('#df-079da725-8f93-4fa1-a633-1c1500be7a6f');\n",
              "          const dataTable =\n",
              "            await google.colab.kernel.invokeFunction('convertToInteractive',\n",
              "                                                     [key], {});\n",
              "          if (!dataTable) return;\n",
              "\n",
              "          const docLinkHtml = 'Like what you see? Visit the ' +\n",
              "            '<a target=\"_blank\" href=https://colab.research.google.com/notebooks/data_table.ipynb>data table notebook</a>'\n",
              "            + ' to learn more about interactive tables.';\n",
              "          element.innerHTML = '';\n",
              "          dataTable['output_type'] = 'display_data';\n",
              "          await google.colab.output.renderOutput(dataTable, element);\n",
              "          const docLink = document.createElement('div');\n",
              "          docLink.innerHTML = docLinkHtml;\n",
              "          element.appendChild(docLink);\n",
              "        }\n",
              "      </script>\n",
              "    </div>\n",
              "  </div>\n",
              "  "
            ]
          },
          "metadata": {},
          "execution_count": 3
        }
      ],
      "source": [
        "#https://github.com/Huanhotze/Sprint-5.-Introduccio-Test-Hipotesis-i-Machine-Learning/blob/main/M5_T01_Data/Lligues%20europees%20UEFA.csv\n",
        "url = 'https://raw.githubusercontent.com/Huanhotze/Sprint-5.-Introduccio-Test-Hipotesis-i-Machine-Learning/main/M5_T01_Data/Lligues%20europees%20UEFA.csv'\n",
        "\n",
        "data = pd.read_csv(url, encoding = \"ISO-8859-1\", sep = ';')\n",
        "data.head()\n",
        "#data.columns"
      ]
    },
    {
      "cell_type": "code",
      "source": [
        "#len(data) #98 filas\n",
        "#data.dtypes\n",
        "#data.select_dtypes(include='number')\n",
        "#data.describe()\n",
        "#data.corr()\n",
        "#data.isna().values.any() #False\n",
        "#data.isnull().values.any() #False"
      ],
      "metadata": {
        "id": "Wz0KZ2wonpqV"
      },
      "id": "Wz0KZ2wonpqV",
      "execution_count": null,
      "outputs": []
    },
    {
      "cell_type": "markdown",
      "source": [
        "**Realizaremos un T-Test para valora si aceptamos o no la hipotesis nula**\n",
        "\n",
        "Seleccionando el atributo 'GF' seleccionaremos una muestra al azar del 30%\n",
        "\n",
        "[scipy.stats.ttest_1samp](https://docs.scipy.org/doc/scipy/reference/generated/scipy.stats.ttest_1samp.html?highlight=ttest#scipy.stats.ttest_1samp)\n",
        "\n",
        "Calculate the T-test for the mean of ONE group of scores.\n",
        "\n",
        "This is a test for the null hypothesis that the expected value (mean) of a sample of independent observations a is equal to the given population mean, popmean."
      ],
      "metadata": {
        "id": "A6DljHrL0e9P"
      },
      "id": "A6DljHrL0e9P"
    },
    {
      "cell_type": "code",
      "source": [
        "alfa = 0.05\n",
        "sample_size = round(len(data)*0.3)\n",
        "popmean = data.GF.mean()\n",
        "\n",
        "GF_sample = np.random.choice(data.GF, sample_size)\n",
        "GF_sample\n",
        "ttest, pvalue = stats.ttest_1samp(GF_sample, popmean)\n",
        "\n",
        "if pvalue < alfa:\n",
        "  print(f\"Para un alfa de {alfa*100}% rechazamos la hipotesis nula con pvalue de {pvalue*100}%\")\n",
        "  print(\"La muestra NO tiene una media igual a la población dada\")\n",
        "else:\n",
        "  print(f\"Para un alfa de {alfa*100}% aceptamos la hipotesis nula con pvalue de {pvalue*100}%\")\n",
        "  print(\"La muestra SI tiene una media igual a la población dada\")\n",
        "\n"
      ],
      "metadata": {
        "colab": {
          "base_uri": "https://localhost:8080/"
        },
        "id": "a_PjHycfwm7L",
        "outputId": "323a21ee-9ac3-4657-a67b-eb0db49b970f"
      },
      "id": "a_PjHycfwm7L",
      "execution_count": null,
      "outputs": [
        {
          "output_type": "stream",
          "name": "stdout",
          "text": [
            "Para un alfa de 5.0% aceptamos la hipotesis nula con pvalue de 44.15281226567084%\n",
            "La muestra SI tiene una media igual a la población dada\n"
          ]
        }
      ]
    },
    {
      "cell_type": "markdown",
      "source": [
        "**Realizaremos un Shapiro-Wilk test para valora si la distribución es normal**\n",
        "\n",
        "Calcularemos sobre el atributo 'GF'\n",
        "\n",
        "[scipy.stats.shapiro](https://docs.scipy.org/doc/scipy/reference/generated/scipy.stats.shapiro.html)\n",
        "\n",
        "Perform the Shapiro-Wilk test for normality.\n",
        "\n",
        "The Shapiro-Wilk test tests the null hypothesis that the data was drawn from a normal distribution."
      ],
      "metadata": {
        "id": "oMzctZRY1Qxh"
      },
      "id": "oMzctZRY1Qxh"
    },
    {
      "cell_type": "code",
      "source": [
        "print('Hipotesis nula Ho -> La mostra té una distribució normal')\n",
        "print('Hipotesis alternativa H1 -> La mostra no té una distribució normal\\n\\n')\n",
        "\n",
        "alfa = 0.05\n",
        "ttest, pvalue = stats.shapiro(data.GF)\n",
        "\n",
        "\n",
        "if pvalue < alfa:\n",
        "  print(f\"Para un alfa de {alfa*100}% rechazamos la hipotesis nula con pvalue de {pvalue*100}%\")\n",
        "  print(\"La muestra NO tiene una distribución normal\")\n",
        "else:\n",
        "  print(f\"Para un alfa de {alfa*100}% aceptamos la hipotesis nula con pvalue de {pvalue*100}%\")\n",
        "  print(\"La muestra SI tiene una distribución normal\")\n",
        "\n"
      ],
      "metadata": {
        "colab": {
          "base_uri": "https://localhost:8080/"
        },
        "outputId": "5671a50c-e6b1-4ddc-e45a-e355e29a8f18",
        "id": "R3OXwToLyuNe"
      },
      "execution_count": null,
      "outputs": [
        {
          "output_type": "stream",
          "name": "stdout",
          "text": [
            "Hipotesis nula Ho -> La mostra té una distribució normal\n",
            "Hipotesis alternativa H1 -> La mostra no té una distribució normal\n",
            "\n",
            "\n",
            "Para un alfa de 5.0% rechazamos la hipotesis nula con pvalue de 0.03564682265277952%\n",
            "La muestra NO tiene una distribución normal\n"
          ]
        }
      ],
      "id": "R3OXwToLyuNe"
    },
    {
      "cell_type": "code",
      "source": [
        "data['GF'].plot.hist(bins=20)"
      ],
      "metadata": {
        "colab": {
          "base_uri": "https://localhost:8080/",
          "height": 283
        },
        "id": "T59Z_Ju02Aqq",
        "outputId": "4d1866f1-f12c-4af8-92ee-0319add277e5"
      },
      "id": "T59Z_Ju02Aqq",
      "execution_count": null,
      "outputs": [
        {
          "output_type": "execute_result",
          "data": {
            "text/plain": [
              "<matplotlib.axes._subplots.AxesSubplot at 0x7fdcab5f6e10>"
            ]
          },
          "metadata": {},
          "execution_count": 20
        },
        {
          "output_type": "display_data",
          "data": {
            "text/plain": [
              "<Figure size 432x288 with 1 Axes>"
            ],
            "image/png": "[encoded data removed]"
          },
          "metadata": {
            "needs_background": "light"
          }
        }
      ]
    },
    {
      "cell_type": "markdown",
      "metadata": {
        "id": "6YJAGjdQxznP"
      },
      "source": [
        "## Exercici 2\n",
        "###  Amb el mateix dataset selecciona dos altres atributs del conjunt de dades. Calcula els p-valors i digues si rebutgen la hipòtesi nul·la agafant un alfa de 5%.\n",
        "\n"
      ],
      "id": "6YJAGjdQxznP"
    },
    {
      "cell_type": "markdown",
      "source": [
        "**Realizaremos un pearsonr test para valora si la distribución es normal**\n",
        "\n",
        "Compararemos partidos perdidos 'L' vs goles en contra 'GA'\n",
        "\n",
        "[scipy.stats.pearsonr](https://docs.scipy.org/doc/scipy/reference/generated/scipy.stats.pearsonr.html?highlight=pearsonr)\n",
        "\n",
        "Pearson correlation coefficient and p-value for testing non-correlation.\n",
        "\n",
        "This function also performs a test of the null hypothesis that the distributions underlying the samples are uncorrelated and normally distributed. "
      ],
      "metadata": {
        "id": "omYwvLhy2rqa"
      },
      "id": "omYwvLhy2rqa"
    },
    {
      "cell_type": "code",
      "source": [
        "print('Null hypothesis Ho ->  The distributions underlying the samples are uncorrelated and normally distributed.')\n",
        "print('Hipotesis alternativa H1 -> The distributions underlying the samples are correlated and no normally distributed.\\n\\n')\n",
        "\n",
        "alfa = 0.05\n",
        "\n",
        "a = data.GA\n",
        "b = data.L\n",
        "\n",
        "#ttest, pvalue = stats.ttest_rel(a, b) #Tests whether the means of two paired samples are significantly different.\n",
        "ttest, pvalue = stats.pearsonr(a, b) #Tests whether two samples have a linear relationship.\n",
        "\n",
        "if pvalue < alfa:\n",
        "  print(f\"Para un alfa de {alfa*100}% rechazamos la hipotesis nula con pvalue de {pvalue*100}%\")\n",
        "  print(\"The distributions underlying the samples are correlated and NO normally distributed.\")\n",
        "else:\n",
        "  print(f\"Para un alfa de {alfa*100}% aceptamos la hipotesis nula con pvalue de {pvalue*100}%\")\n",
        "  print(\"The distributions underlying the samples are UNcorrelated and normally distributed.\")\n"
      ],
      "metadata": {
        "id": "RW-ZoTvu9iOP",
        "colab": {
          "base_uri": "https://localhost:8080/"
        },
        "outputId": "e8f8426d-33b7-4b56-978a-0c0c7e807852"
      },
      "id": "RW-ZoTvu9iOP",
      "execution_count": null,
      "outputs": [
        {
          "output_type": "stream",
          "name": "stdout",
          "text": [
            "Null hypothesis Ho ->  The distributions underlying the samples are uncorrelated and normally distributed.\n",
            "Hipotesis alternativa H1 -> The distributions underlying the samples are correlated and no normally distributed.\n",
            "\n",
            "\n",
            "Para un alfa de 5.0% rechazamos la hipotesis nula con pvalue de 2.0267384124038156e-25%\n",
            "The distributions underlying the samples are correlated and NO normally distributed.\n"
          ]
        }
      ]
    },
    {
      "cell_type": "markdown",
      "source": [
        "Rechazar la hipotesi nula en este caso en concreto, significa que los goles en contra no son producto de un hecho aleatorio. En este caso estan influeciada directamente por los partidos perdidos. 'GA' es dependiente de 'L'."
      ],
      "metadata": {
        "id": "InPGMwE0DO3m"
      },
      "id": "InPGMwE0DO3m"
    },
    {
      "cell_type": "markdown",
      "source": [
        "## Exercici 3\n",
        "### Continua amb el conjunt de dades adjunt i selecciona tres atributs del conjunt de dades. Calcula el p-valor i digues si rebutja la hipòtesi nul·la agafant un alfa de 5%.\n",
        "\n",
        "\n",
        "\n"
      ],
      "metadata": {
        "id": "IPEVUHeXTfqL"
      },
      "id": "IPEVUHeXTfqL"
    },
    {
      "cell_type": "markdown",
      "source": [
        "**Realizaremos un one-way ANOVA test para valora si comparten media poblacional**\n",
        "\n",
        "Calcularemos sobre los atributos 'Pts'  'GF'  'W'\n",
        "\n",
        "[scipy.stats.f_oneway](https://docs.scipy.org/doc/scipy/reference/generated/scipy.stats.f_oneway.html)\n",
        "\n",
        "The one-way ANOVA tests the null hypothesis that two or more groups have the same population mean. The test is applied to samples from two or more groups, possibly with differing sizes. "
      ],
      "metadata": {
        "id": "03Ha9z6o8ojn"
      },
      "id": "03Ha9z6o8ojn"
    },
    {
      "cell_type": "code",
      "source": [
        "\n",
        "alfa = 0.05\n",
        "\n",
        "puntos = data.Pts\n",
        "goles = data.GF\n",
        "ganados = data.W\n",
        "\n",
        "ttest, pvalue = stats.f_oneway(puntos, goles, ganados)\n",
        "\n",
        "\n",
        "if pvalue < alfa:\n",
        "  print(f\"Para un alfa de {alfa*100}% rechazamos la hipotesis nula con pvalue de {pvalue*100}%\")\n",
        "  print(\"Los atributos NO tienen una media comun\")\n",
        "else:\n",
        "  print(f\"Para un alfa de {alfa*100}% aceptamos la hipotesis nula con pvalue de {pvalue*100}%\")\n",
        "  print(\"Los atributos SI tienen una media comun\")"
      ],
      "metadata": {
        "id": "4wHOneSl9f6c",
        "colab": {
          "base_uri": "https://localhost:8080/"
        },
        "outputId": "3d2eb24e-e0a2-4622-a39e-2206e10a46bf"
      },
      "id": "4wHOneSl9f6c",
      "execution_count": 4,
      "outputs": [
        {
          "output_type": "stream",
          "name": "stdout",
          "text": [
            "Para un alfa de 5.0% rechazamos la hipotesis nula con pvalue de 2.1373590359779205e-60%\n",
            "Los atributos NO tienen una media comun\n"
          ]
        }
      ]
    }
  ],
  "metadata": {
    "kernelspec": {
      "display_name": "Python 3 (ipykernel)",
      "language": "python",
      "name": "python3"
    },
    "language_info": {
      "codemirror_mode": {
        "name": "ipython",
        "version": 3
      },
      "file_extension": ".py",
      "mimetype": "text/x-python",
      "name": "python",
      "nbconvert_exporter": "python",
      "pygments_lexer": "ipython3",
      "version": "3.9.12"
    },
    "colab": {
      "provenance": [],
      "collapsed_sections": []
    }
  },
  "nbformat": 4,
  "nbformat_minor": 5
}